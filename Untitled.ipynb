{
 "cells": [
  {
   "cell_type": "code",
   "execution_count": null,
   "id": "a177ee3a-76c3-4f16-a97a-04d93e17bca6",
   "metadata": {},
   "outputs": [],
   "source": []
  }
 ],
 "metadata": {
  "kernelspec": {
   "display_name": "",
   "name": ""
  },
  "language_info": {
   "name": ""
  }
 },
 "nbformat": 4,
 "nbformat_minor": 5
}
